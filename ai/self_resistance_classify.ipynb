{
 "cells": [
  {
   "cell_type": "code",
   "execution_count": null,
   "id": "29f0646d-9cc4-419f-84ef-9a6b5027e32d",
   "metadata": {},
   "outputs": [],
   "source": [
    "import sys\n",
    "import os\n",
    "from pathlib import Path\n",
    "from glob import glob\n",
    "import pandas as pd\n",
    "import json\n",
    "from ast import literal_eval\n",
    "import numpy as np\n",
    "from classes.literature import literature\n",
    "lit = literature()"
   ]
  },
  {
   "cell_type": "markdown",
   "id": "c57aad88-2d08-428c-b030-91b3cbc6bbc6",
   "metadata": {},
   "source": [
    "## GET SELF-RESISTANCE FULLTEXT SECTIONS"
   ]
  },
  {
   "cell_type": "code",
   "execution_count": null,
   "id": "cdf6252c-433d-453b-abf5-0ed72213ec3b",
   "metadata": {},
   "outputs": [],
   "source": [
    "srdf = pd.read_csv('data/abstracts_self_resistance_and_gene.csv')\n",
    "srdf['pmid'] = srdf['pmid'].apply(lambda x: str(x)) # need to convert to string for europepmc query\n",
    "srpmids = list(srdf['pmid'])"
   ]
  },
  {
   "cell_type": "markdown",
   "id": "473a6c5c-bf50-486a-9dff-cd980fb24363",
   "metadata": {},
   "source": [
    "#### GET PMCIDS FOR PMIDS"
   ]
  },
  {
   "cell_type": "code",
   "execution_count": null,
   "id": "848407db-5219-4892-86b5-7966dc338a92",
   "metadata": {},
   "outputs": [],
   "source": [
    "lit.xrf_pmc('self_resistance','data',srpmids)"
   ]
  },
  {
   "cell_type": "markdown",
   "id": "3c70f0b0-1bd3-403c-bab6-4abece750c05",
   "metadata": {},
   "source": [
    "#### GET PMC XMLS FROM EUROPEPMC API"
   ]
  },
  {
   "cell_type": "code",
   "execution_count": null,
   "id": "ea8f82ad-de1f-48aa-be4d-c5530b378fba",
   "metadata": {},
   "outputs": [],
   "source": [
    "lit.get_ft_xml('data/pmc_xml','data/self_resistance_pmcids.json')"
   ]
  },
  {
   "cell_type": "markdown",
   "id": "2d2feb9d-44b0-4d0c-a614-c925571d931b",
   "metadata": {},
   "source": [
    "#### PARSE PMC XML AND EXTRACT SECIONS TEXTS"
   ]
  },
  {
   "cell_type": "code",
   "execution_count": null,
   "id": "92711588-162b-487b-b139-d0b5b9c9023b",
   "metadata": {},
   "outputs": [],
   "source": [
    "lit.get_ft_text('data/pmc_xml',['data/pmc_txt','data/pmc_json'],'data/self_resistance_pmcids.json')"
   ]
  }
 ],
 "metadata": {
  "kernelspec": {
   "display_name": "Python 3 (ipykernel)",
   "language": "python",
   "name": "python3"
  },
  "language_info": {
   "codemirror_mode": {
    "name": "ipython",
    "version": 3
   },
   "file_extension": ".py",
   "mimetype": "text/x-python",
   "name": "python",
   "nbconvert_exporter": "python",
   "pygments_lexer": "ipython3",
   "version": "3.11.9"
  }
 },
 "nbformat": 4,
 "nbformat_minor": 5
}
