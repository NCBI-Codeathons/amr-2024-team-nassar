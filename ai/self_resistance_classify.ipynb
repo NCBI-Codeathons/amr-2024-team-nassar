{
 "cells": [
  {
   "cell_type": "code",
   "execution_count": 1,
   "id": "29f0646d-9cc4-419f-84ef-9a6b5027e32d",
   "metadata": {},
   "outputs": [],
   "source": [
    "import sys\n",
    "import os\n",
    "from pathlib import Path\n",
    "from glob import glob\n",
    "import pandas as pd\n",
    "import json\n",
    "from ast import literal_eval\n",
    "import numpy as np\n",
    "from classes.literature import literature\n",
    "lit = literature()"
   ]
  },
  {
   "cell_type": "markdown",
   "id": "c57aad88-2d08-428c-b030-91b3cbc6bbc6",
   "metadata": {},
   "source": [
    "## GET SELF-RESISTANCE LITERATURE"
   ]
  },
  {
   "cell_type": "markdown",
   "id": "3d3268b4-336e-4908-ab93-b614b88306eb",
   "metadata": {},
   "source": [
    "### PUBMED"
   ]
  },
  {
   "cell_type": "code",
   "execution_count": null,
   "id": "cdf6252c-433d-453b-abf5-0ed72213ec3b",
   "metadata": {},
   "outputs": [],
   "source": [
    "srdf = pd.read_csv('data/abstracts_self_resistance_and_gene.csv')\n",
    "srdf['pmid'] = srdf['pmid'].apply(lambda x: str(x)) # need to convert to string for europepmc query\n",
    "srpmids = list(srdf['pmid'])"
   ]
  },
  {
   "cell_type": "markdown",
   "id": "473a6c5c-bf50-486a-9dff-cd980fb24363",
   "metadata": {},
   "source": [
    "##### GET PMCIDS FOR PMIDS"
   ]
  },
  {
   "cell_type": "code",
   "execution_count": null,
   "id": "848407db-5219-4892-86b5-7966dc338a92",
   "metadata": {},
   "outputs": [],
   "source": [
    "lit.xrf_pmc('self_resistance_pubmed','data',srpmids)"
   ]
  },
  {
   "cell_type": "markdown",
   "id": "3c70f0b0-1bd3-403c-bab6-4abece750c05",
   "metadata": {},
   "source": [
    "##### GET PMC XMLS FROM EUROPEPMC API"
   ]
  },
  {
   "cell_type": "code",
   "execution_count": null,
   "id": "ea8f82ad-de1f-48aa-be4d-c5530b378fba",
   "metadata": {},
   "outputs": [],
   "source": [
    "lit.get_ft_xml('data/pmc_xml','data/self_resistance_pubmed_pmcids.json')"
   ]
  },
  {
   "cell_type": "markdown",
   "id": "2d2feb9d-44b0-4d0c-a614-c925571d931b",
   "metadata": {},
   "source": [
    "##### PARSE PMC XML AND EXTRACT SECIONS TEXTS"
   ]
  },
  {
   "cell_type": "code",
   "execution_count": null,
   "id": "92711588-162b-487b-b139-d0b5b9c9023b",
   "metadata": {},
   "outputs": [],
   "source": [
    "lit.get_ft_text('data/pmc_xml',['data/pmc_txt','data/pmc_json'],'data/self_resistance_pubmed_pmcids.json')"
   ]
  },
  {
   "cell_type": "markdown",
   "id": "7e3a96af-b719-4576-b595-c9d93798c645",
   "metadata": {},
   "source": [
    "### PMC"
   ]
  },
  {
   "cell_type": "code",
   "execution_count": null,
   "id": "5eb85e96-78c7-470c-9df4-c735659003d5",
   "metadata": {},
   "outputs": [],
   "source": [
    "pmcids = lit.get_ncbi_db_ids('pmc','self-resistance AND gene')\n",
    "pmcids"
   ]
  },
  {
   "cell_type": "markdown",
   "id": "371e4498-a051-4fcd-8ca1-14b267cc6842",
   "metadata": {},
   "source": [
    "##### NUCCORE IDS"
   ]
  },
  {
   "cell_type": "code",
   "execution_count": null,
   "id": "c65db727-f0f3-4515-a042-8f4a917bbf3f",
   "metadata": {},
   "outputs": [],
   "source": [
    "nids = lit.map_ncbi_db_ids('pmc','nuccore',pmcids,100)\n",
    "nids"
   ]
  },
  {
   "cell_type": "markdown",
   "id": "7462a80a-009b-49d1-92a6-5defe5cb981e",
   "metadata": {},
   "source": [
    "##### ACCESSION IDS"
   ]
  },
  {
   "cell_type": "code",
   "execution_count": null,
   "id": "1e29e133-4f16-4f4c-8124-b3c6a1855aa4",
   "metadata": {},
   "outputs": [],
   "source": [
    "accids = lit.get_ncbi_ids_summary('nuccore',nids,'all',100)\n",
    "accids"
   ]
  },
  {
   "cell_type": "code",
   "execution_count": null,
   "id": "6d251e81-539e-4384-ad1c-bf03b3b438e8",
   "metadata": {},
   "outputs": [],
   "source": [
    "pd.DataFrame(accids).to_csv('data/self_resistance_nuccore_ids.csv')"
   ]
  },
  {
   "cell_type": "markdown",
   "id": "3e8101a9-0dc1-4940-ab1e-45b88d122145",
   "metadata": {},
   "source": [
    "##### PMCIDS"
   ]
  },
  {
   "cell_type": "code",
   "execution_count": null,
   "id": "cda238b8-dbc2-4ad4-8c5d-d36821252a21",
   "metadata": {},
   "outputs": [],
   "source": [
    "pmcids = ['PMC'+str(pmcid) for pmcid in pmcids]"
   ]
  },
  {
   "cell_type": "code",
   "execution_count": null,
   "id": "c5113320-8c23-4bcc-950b-5f07d5c0e040",
   "metadata": {},
   "outputs": [],
   "source": [
    "lit.xrf_pmc('self_resistance','data',pmcids)"
   ]
  },
  {
   "cell_type": "code",
   "execution_count": null,
   "id": "ba8f2b58-999b-4002-bfc5-5ad36d239f45",
   "metadata": {},
   "outputs": [],
   "source": [
    "lit.get_ft_xml('data/pmc_xml','data/self_resistance_pmcids.json')"
   ]
  },
  {
   "cell_type": "code",
   "execution_count": null,
   "id": "5fa0448c-35db-4148-9884-7c5361eae299",
   "metadata": {},
   "outputs": [],
   "source": [
    "lit.get_ft_text('data/pmc_xml',['data/pmc_txt','data/pmc_json'],'data/self_resistance_pmcids.json')"
   ]
  },
  {
   "cell_type": "markdown",
   "id": "d5d2d6e1-2e62-4dfb-82e4-c0fc90fb695e",
   "metadata": {},
   "source": [
    "## GET SELF-RESISTANCE GENE ENTITIES USING LLMs"
   ]
  },
  {
   "cell_type": "markdown",
   "id": "c45017b9-a380-4373-a3bd-a7648f579a51",
   "metadata": {},
   "source": [
    "##### notes\n",
    "- This paper https://www.ncbi.nlm.nih.gov/pmc/articles/PMC10031226/ didn't have accession for BGCs cluster but on searching for \"SacH\" AND \"Pseudomonas fluorescens\" a cluster was found https://www.ncbi.nlm.nih.gov/nuccore/116552886 but the species name need to be not abbreviated "
   ]
  },
  {
   "cell_type": "markdown",
   "id": "3d99f03d-d7ee-47fc-b60c-3c02983a3f7c",
   "metadata": {},
   "source": [
    "#### TASK AND EXAMPLES"
   ]
  },
  {
   "cell_type": "code",
   "execution_count": 2,
   "id": "83c83262-4d1e-45ff-85d6-77ca4935092b",
   "metadata": {},
   "outputs": [],
   "source": [
    "task = \"Read the following context and identify only self-resistance entities using the following format: ['entity_1|self-resistance-gene-protein/self-resistance-compound/self-resistance-mechanism/accession/self-resistance-regulator/organism','entity_2|self-resistance-gene-protein/self-resistance-compound/self-resistance-mechanism/accession/self-resistance-regulator/organism','entity_3|self-resistance-gene-protein/self-resistance-compound/self-resistance-mechanism/accession/self-resistance-regulator/organism',...]. These can include self-resistance-gene-protein, self-resistance-compound, self-resistance-mechanism, accession, self-resistance-regulator, organism. Avoid creating sub-lists or combining entities within sub-lists. Do not provide any additional explanations, commentaries, or context. Your output should only contain the identified entities, not any additional information or interpretation.If the text does not contain any self-resistance-related entities, your output should be an empty list [].\""
   ]
  },
  {
   "cell_type": "code",
   "execution_count": 3,
   "id": "e1e02cf4-0fa1-40bf-a89d-80e5d58072b4",
   "metadata": {},
   "outputs": [],
   "source": [
    "content_output = [\n",
    "    {\n",
    "        'content':\"However, similar to the gene-deletion experiments of berkC17, a self-resistance gene in Penicillium egyptiacum, after enormous attempts and screenings with different sucrose concentrations, it was still failed to get the sacH-deletion strain. Then E. coli BL21 (DE3) cells were used as the test strain to examine the relationship between sacH-expression and the resistance against SAC-B. The results showed that the survival ratio of sacH-expression strain did not decrease with the increase of SAC-B concentration, compared with the control strain containing vector pET28a (Fig.\\xa02F). These collective results unambiguously supported that SacH, the DHFR-like protein, endows host cells resistance to SAC-B for self-protection via reductive inactivation of not only the end-product but also the hemiaminal pharmacophore-containing biosynthetic intermediate.\",\n",
    "        'output':\"['berkC17|self-resistance-gene-protein', 'Penicillium egyptiacum|organism', 'SAC-B|self-resistance-compound', 'SacH|self-resistance-gene-protein', 'reductive inactivation|self-resistance-mechanism']\"\n",
    "    },\n",
    "    {\n",
    "        'content':\"This result further supports that DHFR-like protein SacH from P. fluorescens plays the key role in reductively inactivating the hemiaminal pharmacophore for self-resistance with broad substrate scope, which functionally resembles SfmO1 in SFM biosynthesis from S. lavendulae.\",\n",
    "        'output':\"['SacH|self-resistance-gene-protein', 'P. fluorescens|organism', 'reductively inactivating|self-resistance-mechanism','SfmO1|self-resistance-gene-protein,'SFM|self-resistance-compound','S. lavendulae|organism']\"\n",
    "    },\n",
    "    {\n",
    "        'content':\"We focused on two strains, BCI1 and BCI2, which are both Pseudonocardia sp. collected from Apterostigma dentigerum ant colonies on Barro Colorado Island, Panama. BCI2's high tolerance for 9-methoxyrebeccamycin implies a resistance mechanism on the pBCI2-2 plasmid. The integral membrane transporter RebT, a putative efflux pump in the major facilitator family, has been shown to confer rebeccamycin resistance when heterologously expressed in an otherwise sensitive Actinomycete, Streptomyces albus.15 A distinct member of this transporter family is encoded in both the BCI2 9-methoxyrebeccamycin and eDNA AB857 clusters (Figure 2B, brown shaded arrows) and is the most likely candidate for self-resistance. An uncharacterized putative transporter gene, rebU, is also present in all three clusters and could also contribute to resistance.\",\n",
    "        'output':\"['Pseudonocardia sp|organism','BCI1|organism','BCI2|organism','9-methoxyrebeccamycin|self-resistance-compound','RebT|self-resistance-gene-protein','efflux pump|self-resistance-mechanism','rebeccamycin|self-resistance-compound','rebU|self-resistance-gene-protein','transporter gene|self-resistance-mechanism']\"\n",
    "    },\n",
    "    {\n",
    "        'content':\"Nucleotide sequence accession number. The nucleotide sequences of rebeccamycin biosynthetic genes have been submitted to DDBJ under accession number AB090952.\",\n",
    "        'output':\"['AB090952|accession','rebeccamycin|self-resistance-compound']\"\n",
    "    },\n",
    "    {\n",
    "        'content':\"Here we report the unexpected discovery that althiomycin is produced by this organism, as a metabolic product of a previously unidentified biosynthetic gene cluster. We observed that S. marcescens Db10 produced a diffusible metabolite able to inhibit the growth of Bacillus subtilis. A cluster of six genes encoding a hybrid NRPS-PKS assembly line, two tailoring enzymes and a putative self-resistance protein were identified as responsible for production of the antimicrobial. In antibiotic producing organisms, resistance genes are commonly located within the antibiotic biosynthetic gene cluster [34]. We therefore hypothesised that Alb1 was required for self-resistance to althiomycin and/or export of althiomycin from the cell into the surrounding environment. We predicted that if alb1 was essential for self-resistance, it might not be possible to make an althiomycin-producing alb1 mutant due to lethality.\",\n",
    "        'output':\"['althiomycin|self-resistance-compound','S. marcescens Db10|organism','Alb1|self-resistance-gene-protein','efflux|self-resistance-mechanism']\"\n",
    "    },\n",
    "]"
   ]
  },
  {
   "cell_type": "code",
   "execution_count": 4,
   "id": "22a1901e-0e15-4e3a-bbe1-50b3ee9629a1",
   "metadata": {},
   "outputs": [
    {
     "data": {
      "text/plain": [
       "'However, similar to the gene-deletion experiments of berkC17, a self-resistance gene in Penicillium egyptiacum, after enormous attempts and screenings with different sucrose concentrations, it was still failed to get the sacH-deletion strain. Then E. coli BL21 (DE3) cells were used as the test strain to examine the relationship between sacH-expression and the resistance against SAC-B. The results showed that the survival ratio of sacH-expression strain did not decrease with the increase of SAC-B concentration, compared with the control strain containing vector pET28a (Fig.\\xa02F). These collective results unambiguously supported that SacH, the DHFR-like protein, endows host cells resistance to SAC-B for self-protection via reductive inactivation of not only the end-product but also the hemiaminal pharmacophore-containing biosynthetic intermediate.'"
      ]
     },
     "execution_count": 4,
     "metadata": {},
     "output_type": "execute_result"
    }
   ],
   "source": [
    "content_output[0]['content']"
   ]
  },
  {
   "cell_type": "code",
   "execution_count": 5,
   "id": "bd182c72-5467-4f04-a517-532eced8f08a",
   "metadata": {},
   "outputs": [
    {
     "data": {
      "text/plain": [
       "\"['berkC17|self-resistance-gene-protein', 'Penicillium egyptiacum|organism', 'SAC-B|self-resistance-compound', 'SacH|self-resistance-gene-protein', 'reductive inactivation|self-resistance-mechanism']\""
      ]
     },
     "execution_count": 5,
     "metadata": {},
     "output_type": "execute_result"
    }
   ],
   "source": [
    "content_output[0]['output']"
   ]
  },
  {
   "cell_type": "code",
   "execution_count": 6,
   "id": "fae771e8-5899-40bb-b423-45c26f46e44f",
   "metadata": {},
   "outputs": [
    {
     "data": {
      "text/plain": [
       "[{'role': 'user',\n",
       "  'content': \"Read the following context and identify only self-resistance entities using the following format: ['entity_1|self-resistance-gene-protein/self-resistance-compound/self-resistance-mechanism/accession/self-resistance-regulator/organism','entity_2|self-resistance-gene-protein/self-resistance-compound/self-resistance-mechanism/accession/self-resistance-regulator/organism','entity_3|self-resistance-gene-protein/self-resistance-compound/self-resistance-mechanism/accession/self-resistance-regulator/organism',...]. These can include self-resistance-gene-protein, self-resistance-compound, self-resistance-mechanism, accession, self-resistance-regulator, organism. Avoid creating sub-lists or combining entities within sub-lists. Do not provide any additional explanations, commentaries, or context. Your output should only contain the identified entities, not any additional information or interpretation.If the text does not contain any self-resistance-related entities, your output should be an empty list [].CONTEXT: However, similar to the gene-deletion experiments of berkC17, a self-resistance gene in Penicillium egyptiacum, after enormous attempts and screenings with different sucrose concentrations, it was still failed to get the sacH-deletion strain. Then E. coli BL21 (DE3) cells were used as the test strain to examine the relationship between sacH-expression and the resistance against SAC-B. The results showed that the survival ratio of sacH-expression strain did not decrease with the increase of SAC-B concentration, compared with the control strain containing vector pET28a (Fig.\\xa02F). These collective results unambiguously supported that SacH, the DHFR-like protein, endows host cells resistance to SAC-B for self-protection via reductive inactivation of not only the end-product but also the hemiaminal pharmacophore-containing biosynthetic intermediate.\"},\n",
       " {'role': 'assistant',\n",
       "  'content': \"['berkC17|self-resistance-gene-protein', 'Penicillium egyptiacum|organism', 'SAC-B|self-resistance-compound', 'SacH|self-resistance-gene-protein', 'reductive inactivation|self-resistance-mechanism']\"}]"
      ]
     },
     "execution_count": 6,
     "metadata": {},
     "output_type": "execute_result"
    }
   ],
   "source": [
    "examples = []\n",
    "for co in content_output:\n",
    "    examples.append({'role':'user','content':task+'CONTEXT: '+co['content']})\n",
    "    examples.append({'role':'assistant','content':co['output']})\n",
    "examples[0:2]"
   ]
  },
  {
   "cell_type": "code",
   "execution_count": 8,
   "id": "2a25408e-6f99-430d-92cd-0d9f82fbe98d",
   "metadata": {},
   "outputs": [],
   "source": [
    "prompt = {'task':task,'examples':examples}\n",
    "with open(Path('data/llm/input/prompt.json'), 'w', encoding='utf-8') as j:json.dump(prompt,j,ensure_ascii=False,indent=4)"
   ]
  },
  {
   "cell_type": "markdown",
   "id": "22f9a9c5-f6fa-4480-ac30-ff43bb8c7d3e",
   "metadata": {},
   "source": [
    "#### GENERATE LLM INPUT"
   ]
  },
  {
   "cell_type": "code",
   "execution_count": 16,
   "id": "b4cc167e-59fa-4816-988d-82f10d7411e1",
   "metadata": {
    "scrolled": true
   },
   "outputs": [
    {
     "data": {
      "text/html": [
       "<div>\n",
       "<style scoped>\n",
       "    .dataframe tbody tr th:only-of-type {\n",
       "        vertical-align: middle;\n",
       "    }\n",
       "\n",
       "    .dataframe tbody tr th {\n",
       "        vertical-align: top;\n",
       "    }\n",
       "\n",
       "    .dataframe thead th {\n",
       "        text-align: right;\n",
       "    }\n",
       "</style>\n",
       "<table border=\"1\" class=\"dataframe\">\n",
       "  <thead>\n",
       "    <tr style=\"text-align: right;\">\n",
       "      <th></th>\n",
       "      <th>id</th>\n",
       "      <th>text</th>\n",
       "      <th>entity</th>\n",
       "      <th>term</th>\n",
       "    </tr>\n",
       "  </thead>\n",
       "  <tbody>\n",
       "    <tr>\n",
       "      <th>0</th>\n",
       "      <td>PMC10100954</td>\n",
       "      <td>(A) EMSA of LodR1 binding to the intergenic re...</td>\n",
       "      <td>[bgc-gene-name, bgc-gene-name, bgc-gene-name, ...</td>\n",
       "      <td>[lodR1–lodA, lodA, lodR2–lodR3, lodR3]</td>\n",
       "    </tr>\n",
       "    <tr>\n",
       "      <th>1</th>\n",
       "      <td>PMC10100954</td>\n",
       "      <td>(A) EMSA of LodR2 binding to the intergenic re...</td>\n",
       "      <td>[bgc-gene-name, bgc-gene-name]</td>\n",
       "      <td>[lodE–lodR2, lodR2]</td>\n",
       "    </tr>\n",
       "    <tr>\n",
       "      <th>2</th>\n",
       "      <td>PMC10100954</td>\n",
       "      <td>(A) Lasalocid A production in the S. lasalocid...</td>\n",
       "      <td>[bgc-compound, bgc-organism]</td>\n",
       "      <td>[Lasalocid A, S. lasalocidi ATCC 31180T]</td>\n",
       "    </tr>\n",
       "    <tr>\n",
       "      <th>3</th>\n",
       "      <td>PMC10100954</td>\n",
       "      <td>(A) Schematic diagram of gusA transcriptional ...</td>\n",
       "      <td>[bgc-gene-name]</td>\n",
       "      <td>[gusA]</td>\n",
       "    </tr>\n",
       "    <tr>\n",
       "      <th>4</th>\n",
       "      <td>PMC10100954</td>\n",
       "      <td>(B) HPLC analysis of lasalocid A production in...</td>\n",
       "      <td>[bgc-compound, bgc-gene-name, bgc-gene-name, b...</td>\n",
       "      <td>[lasalocid A, las4, las4C, lodR3, lodR3C]</td>\n",
       "    </tr>\n",
       "    <tr>\n",
       "      <th>...</th>\n",
       "      <td>...</td>\n",
       "      <td>...</td>\n",
       "      <td>...</td>\n",
       "      <td>...</td>\n",
       "    </tr>\n",
       "    <tr>\n",
       "      <th>9542</th>\n",
       "      <td>PMC9854587</td>\n",
       "      <td>Within the gene cluster of tiancimycin (Figure...</td>\n",
       "      <td>[bgc-compound, bgc-action, bgc-gene-name, bgc-...</td>\n",
       "      <td>[tiancimycin, resistance, tnmS1, tnmS2, tnmS3]</td>\n",
       "    </tr>\n",
       "    <tr>\n",
       "      <th>9543</th>\n",
       "      <td>PMC9854587</td>\n",
       "      <td>Wright et al. identified the caseinolytic prot...</td>\n",
       "      <td>[bgc-compound, bgc-gene-product-name, bgc-acti...</td>\n",
       "      <td>[clipibicyclene, ClpP, inhibitor, antibiotic, ...</td>\n",
       "    </tr>\n",
       "    <tr>\n",
       "      <th>9544</th>\n",
       "      <td>PMC9854587</td>\n",
       "      <td>YTM is a potent genotoxic agent belonging to t...</td>\n",
       "      <td>[bgc-compound, bgc-compound, bgc-action, bgc-a...</td>\n",
       "      <td>[YTM, YTM-producer, genotoxic, cytotoxicity, t...</td>\n",
       "    </tr>\n",
       "    <tr>\n",
       "      <th>9545</th>\n",
       "      <td>PMC9854587</td>\n",
       "      <td>YtkR6 is homologous to the drug-resistance tra...</td>\n",
       "      <td>[bgc-gene-product-name]</td>\n",
       "      <td>[YtkR6]</td>\n",
       "    </tr>\n",
       "    <tr>\n",
       "      <th>9546</th>\n",
       "      <td>PMC9854587</td>\n",
       "      <td>capreolus possesses several self-resistance me...</td>\n",
       "      <td>[bgc-action, bgc-action]</td>\n",
       "      <td>[self-resistance, cytotoxicity]</td>\n",
       "    </tr>\n",
       "  </tbody>\n",
       "</table>\n",
       "<p>9547 rows × 4 columns</p>\n",
       "</div>"
      ],
      "text/plain": [
       "               id                                               text  \\\n",
       "0     PMC10100954  (A) EMSA of LodR1 binding to the intergenic re...   \n",
       "1     PMC10100954  (A) EMSA of LodR2 binding to the intergenic re...   \n",
       "2     PMC10100954  (A) Lasalocid A production in the S. lasalocid...   \n",
       "3     PMC10100954  (A) Schematic diagram of gusA transcriptional ...   \n",
       "4     PMC10100954  (B) HPLC analysis of lasalocid A production in...   \n",
       "...           ...                                                ...   \n",
       "9542   PMC9854587  Within the gene cluster of tiancimycin (Figure...   \n",
       "9543   PMC9854587  Wright et al. identified the caseinolytic prot...   \n",
       "9544   PMC9854587  YTM is a potent genotoxic agent belonging to t...   \n",
       "9545   PMC9854587  YtkR6 is homologous to the drug-resistance tra...   \n",
       "9546   PMC9854587  capreolus possesses several self-resistance me...   \n",
       "\n",
       "                                                 entity  \\\n",
       "0     [bgc-gene-name, bgc-gene-name, bgc-gene-name, ...   \n",
       "1                        [bgc-gene-name, bgc-gene-name]   \n",
       "2                          [bgc-compound, bgc-organism]   \n",
       "3                                       [bgc-gene-name]   \n",
       "4     [bgc-compound, bgc-gene-name, bgc-gene-name, b...   \n",
       "...                                                 ...   \n",
       "9542  [bgc-compound, bgc-action, bgc-gene-name, bgc-...   \n",
       "9543  [bgc-compound, bgc-gene-product-name, bgc-acti...   \n",
       "9544  [bgc-compound, bgc-compound, bgc-action, bgc-a...   \n",
       "9545                            [bgc-gene-product-name]   \n",
       "9546                           [bgc-action, bgc-action]   \n",
       "\n",
       "                                                   term  \n",
       "0                [lodR1–lodA, lodA, lodR2–lodR3, lodR3]  \n",
       "1                                   [lodE–lodR2, lodR2]  \n",
       "2              [Lasalocid A, S. lasalocidi ATCC 31180T]  \n",
       "3                                                [gusA]  \n",
       "4             [lasalocid A, las4, las4C, lodR3, lodR3C]  \n",
       "...                                                 ...  \n",
       "9542     [tiancimycin, resistance, tnmS1, tnmS2, tnmS3]  \n",
       "9543  [clipibicyclene, ClpP, inhibitor, antibiotic, ...  \n",
       "9544  [YTM, YTM-producer, genotoxic, cytotoxicity, t...  \n",
       "9545                                            [YtkR6]  \n",
       "9546                    [self-resistance, cytotoxicity]  \n",
       "\n",
       "[9547 rows x 4 columns]"
      ]
     },
     "execution_count": 16,
     "metadata": {},
     "output_type": "execute_result"
    }
   ],
   "source": [
    "files = list(Path('../bgcs/emerald_bgcs_annotations/pubmed_output/sent-json').glob('**/*.json')) \n",
    "llm_data = []\n",
    "for f in files:\n",
    "    if 'checkpoint' not in str(f):\n",
    "        with open(f) as j: sents = np.unique(json.load(j)).tolist()\n",
    "        for sent in sents:\n",
    "            sid = sent['id']\n",
    "            for ann in sent['anns']:\n",
    "                for tag in ann['tags']:\n",
    "                    sent_data = {'id':sid,'text':ann['exact'],'entity':ann['type'],'term':tag['name']}\n",
    "                    llm_data.append(sent_data)    \n",
    "llm_data_df = pd.DataFrame(llm_data)\n",
    "llm_data_df = llm_data_df.drop_duplicates(subset=['id','text','entity','term'],keep='last').reset_index(drop=True)\n",
    "# llm_data_df = llm_data_df[llm_data_df['entity'].isin(['bgc-gene-name','bgc-gene-product-name'])]\n",
    "llm_data_dfg = llm_data_df.groupby(['id','text']).agg({'entity':list,'term':list}).reset_index()\n",
    "llm_data_dfg"
   ]
  },
  {
   "cell_type": "code",
   "execution_count": null,
   "id": "19d9f1dd-2bab-4b10-a3a0-dcc9497697a9",
   "metadata": {},
   "outputs": [],
   "source": [
    "llm_data_dfg.to_csv(Path('data/llm/input/input.csv'))"
   ]
  },
  {
   "cell_type": "code",
   "execution_count": null,
   "id": "2dca306b-1e04-40d1-9b75-8d55c0ecb0a2",
   "metadata": {},
   "outputs": [],
   "source": [
    "# llm_data_dfg[0:10].to_csv(Path('data/llm/input/test.csv'))"
   ]
  },
  {
   "cell_type": "code",
   "execution_count": null,
   "id": "579ca10c-07e4-4a6f-9901-415895c199a4",
   "metadata": {},
   "outputs": [],
   "source": [
    "! python classes/llm.py --input 'data/llm/input/test.csv' --prompt 'data/llm/input/prompt.json' --model 'meta-llama/Llama-3.1-70B-Instruct' --output 'data/llm/output/output.csv' --mconfig 'quantize' --hf_token 'xxxxxxx'"
   ]
  }
 ],
 "metadata": {
  "kernelspec": {
   "display_name": "Python 3 (ipykernel)",
   "language": "python",
   "name": "python3"
  },
  "language_info": {
   "codemirror_mode": {
    "name": "ipython",
    "version": 3
   },
   "file_extension": ".py",
   "mimetype": "text/x-python",
   "name": "python",
   "nbconvert_exporter": "python",
   "pygments_lexer": "ipython3",
   "version": "3.11.9"
  }
 },
 "nbformat": 4,
 "nbformat_minor": 5
}
