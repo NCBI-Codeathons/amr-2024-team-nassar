{
 "cells": [
  {
   "cell_type": "markdown",
   "metadata": {},
   "source": [
    "# Literature Download"
   ]
  },
  {
   "cell_type": "code",
   "execution_count": 84,
   "metadata": {},
   "outputs": [],
   "source": [
    "import csv\n",
    "import urllib\n",
    "import xml.etree.ElementTree as ET\n",
    "from time import sleep\n",
    "from bs4 import BeautifulSoup\n",
    "import pandas as pd"
   ]
  },
  {
   "cell_type": "markdown",
   "metadata": {},
   "source": [
    "## Searching PubMed Database"
   ]
  },
  {
   "cell_type": "code",
   "execution_count": 85,
   "metadata": {},
   "outputs": [],
   "source": [
    "\"\"\"\n",
    "Dependency list in case of setting up poetry\n",
    "- ipykernel\n",
    "\"\"\"\n",
    "\n",
    "URL = \"http://eutils.ncbi.nlm.nih.gov/entrez/eutils/esearch.fcgi\"\n",
    "DB = \"pubmed\"\n",
    "TERM = \"(self-resistance[Title/Abstract]) AND (gene[Title/Abstract])\"\n",
    "USEHISTORY = \"y\"\n",
    "RETTYPE = \"xml\""
   ]
  },
  {
   "cell_type": "code",
   "execution_count": 86,
   "metadata": {},
   "outputs": [
    {
     "name": "stdout",
     "output_type": "stream",
     "text": [
      "http://eutils.ncbi.nlm.nih.gov/entrez/eutils/esearch.fcgi?db=pubmed&term=%28self-resistance%5BTitle%2FAbstract%5D%29+AND+%28gene%5BTitle%2FAbstract%5D%29&usehistory=y&rettype=xml\n"
     ]
    }
   ],
   "source": [
    "params = {\"db\": DB, \"term\": TERM, \"usehistory\": USEHISTORY, \"rettype\": RETTYPE}\n",
    "search_url = \"{}?{}\".format(URL, urllib.parse.urlencode(params))\n",
    "print(search_url)"
   ]
  },
  {
   "cell_type": "code",
   "execution_count": 87,
   "metadata": {},
   "outputs": [
    {
     "data": {
      "text/plain": [
       "'<?xml version=\"1.0\" encoding=\"UTF-8\" ?>\\n<!DOCTYPE eSearchResult PUBLIC \"-//NLM//DTD esearch 20060628//EN\" \"https://eutils.ncbi.nlm.nih.gov/eutils/dtd/20060628/esearch.dtd\">\\n<eSearchResult><Count>150</Count><RetMax>20</RetMax><RetStart>0</RetStart><QueryKey>1</QueryKey><WebEnv>MCID_66f4418127f7d7a98a067a59</WebEnv><IdList>\\n<Id>38922130</Id>\\n<Id>38795484</Id>\\n<Id>38704580</Id>\\n<Id>38559311</Id>\\n<Id>38233135</Id>\\n<Id>38051581</Id>\\n<Id>37961497</Id>\\n<Id>37575356</Id>\\n<Id>37569821</Id>\\n<Id>37374983</Id>\\n<Id>37198233</Id>\\n<Id>37166326</Id>\\n<Id>36847561</Id>\\n<Id>36704842</Id>\\n<Id>36671236</Id>\\n<Id>36555354</Id>\\n<Id>36445346</Id>\\n<Id>36187977</Id>\\n<Id>35855324</Id>\\n<Id>35830808</Id>\\n</IdList><TranslationSet/><QueryTranslation>\"self-resistance\"[Title/Abstract] AND \"gene\"[Title/Abstract]</QueryTranslation></eSearchResult>\\n'"
      ]
     },
     "execution_count": 87,
     "metadata": {},
     "output_type": "execute_result"
    }
   ],
   "source": [
    "response = urllib.request.urlopen(search_url)\n",
    "response_str = response.read().decode(\"utf-8\")\n",
    "response_str"
   ]
  },
  {
   "cell_type": "code",
   "execution_count": 88,
   "metadata": {},
   "outputs": [],
   "source": [
    "\"\"\"\n",
    "https://docs.python.org/3.11/library/xml.etree.elementtree.html#parsing-xml\n",
    "fromstring() parses XML from a string directly into an Element, \n",
    "which is the root element of the parsed tree.\n",
    "\"\"\"\n",
    "\n",
    "root = ET.fromstring(response_str)\n",
    "count = root.findall(\"Count\")[0].text\n",
    "webenv = root.findall(\"WebEnv\")[0].text\n",
    "querykey = root.findall(\"QueryKey\")[0].text"
   ]
  },
  {
   "cell_type": "code",
   "execution_count": 89,
   "metadata": {},
   "outputs": [
    {
     "name": "stdout",
     "output_type": "stream",
     "text": [
      "150\n",
      "MCID_66f4418127f7d7a98a067a59\n",
      "1\n"
     ]
    }
   ],
   "source": [
    "print(count)\n",
    "print(webenv)\n",
    "print(querykey)"
   ]
  },
  {
   "cell_type": "markdown",
   "metadata": {},
   "source": [
    "## Getting Method Section of Each Paper"
   ]
  },
  {
   "cell_type": "code",
   "execution_count": 90,
   "metadata": {},
   "outputs": [],
   "source": [
    "FETCH_URL = \"http://eutils.ncbi.nlm.nih.gov/entrez/eutils/efetch.fcgi\"\n",
    "# RETSTART = 0\n",
    "# RETMAX = 1\n",
    "RETMODE = \"xml\"\n",
    "RETTYPE = \"abstract\""
   ]
  },
  {
   "cell_type": "code",
   "execution_count": 91,
   "metadata": {},
   "outputs": [
    {
     "name": "stdout",
     "output_type": "stream",
     "text": [
      "0: Mechanism of Fumonisin Self-Resistance: Fusarium verticillioides Contains Four Fumonisin B1-Insensitive-Ceramide Synthases.\n"
     ]
    }
   ],
   "source": [
    "title_list = []\n",
    "abstract_list = []\n",
    "pmid_list = []\n",
    "for i in range(0,150):\n",
    "    retstart = i\n",
    "    retmax = retstart+1\n",
    "\n",
    "    fetch_params = {\n",
    "    \"db\":DB,\n",
    "    \"query_key\":querykey,\n",
    "    \"WebEnv\":webenv,\n",
    "    \"retstart\":retstart,\n",
    "    \"retmax\":retmax,\n",
    "    \"retmode\":RETMODE,\n",
    "    \"RETTYPE\":RETTYPE\n",
    "    }\n",
    "\n",
    "    fetch_url = \"{}?{}\".format(FETCH_URL, urllib.parse.urlencode(fetch_params))\n",
    "\n",
    "    abstract_response = urllib.request.urlopen(fetch_url)\n",
    "    abstract_response = abstract_response.read().decode(\"utf-8\")\n",
    "    soup = BeautifulSoup(abstract_response, features=\"xml\")\n",
    "\n",
    "    pmid = soup.find_all(\"PMID\")[0].text\n",
    "    title = soup.find_all(\"ArticleTitle\")[0].text\n",
    "    abstract = soup.find_all(\"AbstractText\")[0].text\n",
    "    \n",
    "    pmid_list.append(pmid)\n",
    "    title_list.append(title)\n",
    "    abstract_list.append(abstract)\n",
    "\n",
    "    print(f\"{i}: {title}\")\n",
    "    sleep(1)"
   ]
  },
  {
   "cell_type": "code",
   "execution_count": 92,
   "metadata": {},
   "outputs": [],
   "source": [
    "df_dict = {\n",
    "    \"title\": title_list,\n",
    "    \"pmid\": pmid_list,\n",
    "    \"abstract\": abstract_list\n",
    "}"
   ]
  },
  {
   "cell_type": "code",
   "execution_count": 93,
   "metadata": {},
   "outputs": [],
   "source": [
    "abstract_df = pd.DataFrame.from_dict(df_dict)"
   ]
  },
  {
   "cell_type": "code",
   "execution_count": 94,
   "metadata": {},
   "outputs": [],
   "source": [
    "abstract_df.to_csv(\"./abstracts/abstracts_self_resistance_and_gene.csv\", index=False)"
   ]
  }
 ],
 "metadata": {
  "kernelspec": {
   "display_name": "Python 3",
   "language": "python",
   "name": "python3"
  },
  "language_info": {
   "codemirror_mode": {
    "name": "ipython",
    "version": 3
   },
   "file_extension": ".py",
   "mimetype": "text/x-python",
   "name": "python",
   "nbconvert_exporter": "python",
   "pygments_lexer": "ipython3",
   "version": "3.11.2"
  }
 },
 "nbformat": 4,
 "nbformat_minor": 2
}
